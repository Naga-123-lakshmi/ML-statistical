{
  "nbformat": 4,
  "nbformat_minor": 0,
  "metadata": {
    "colab": {
      "provenance": []
    },
    "kernelspec": {
      "name": "python3",
      "display_name": "Python 3"
    },
    "language_info": {
      "name": "python"
    }
  },
  "cells": [
    {
      "cell_type": "code",
      "execution_count": null,
      "metadata": {
        "id": "1K53D9krwc8X"
      },
      "outputs": [],
      "source": [
        "import statistics"
      ]
    },
    {
      "cell_type": "code",
      "source": [
        "data=[11,29,32,47,55,44,25]"
      ],
      "metadata": {
        "id": "79o8XEIOw1q3"
      },
      "execution_count": null,
      "outputs": []
    },
    {
      "cell_type": "code",
      "source": [
        "Mean=statistics.mean(data)\n",
        "print(\"Mean:\",Mean)"
      ],
      "metadata": {
        "colab": {
          "base_uri": "https://localhost:8080/"
        },
        "id": "jRhyOERPw9ul",
        "outputId": "662e82c2-3398-4f8d-8110-1f9ce6ba5b3b"
      },
      "execution_count": null,
      "outputs": [
        {
          "output_type": "stream",
          "name": "stdout",
          "text": [
            "Mean: 34.714285714285715\n"
          ]
        }
      ]
    },
    {
      "cell_type": "code",
      "source": [
        "Median=statistics.median(data)\n",
        "print(\"Median:\",Median)"
      ],
      "metadata": {
        "colab": {
          "base_uri": "https://localhost:8080/"
        },
        "id": "eZ5nhQCBxVPF",
        "outputId": "44473102-3464-4efd-a266-339e9de87f1a"
      },
      "execution_count": null,
      "outputs": [
        {
          "output_type": "stream",
          "name": "stdout",
          "text": [
            "Median: 32\n"
          ]
        }
      ]
    },
    {
      "cell_type": "code",
      "source": [
        "Mode=statistics.mode(data)\n",
        "print(\"Mode:\",Mode)"
      ],
      "metadata": {
        "colab": {
          "base_uri": "https://localhost:8080/"
        },
        "id": "sodrYXMGxhij",
        "outputId": "cc340e90-6cdf-46fb-bf38-c75ce35fe0d0"
      },
      "execution_count": null,
      "outputs": [
        {
          "output_type": "stream",
          "name": "stdout",
          "text": [
            "Mode: 11\n"
          ]
        }
      ]
    },
    {
      "cell_type": "code",
      "source": [
        "Variance=statistics.variance(data)\n",
        "print(\"Variance:\",Variance)"
      ],
      "metadata": {
        "colab": {
          "base_uri": "https://localhost:8080/"
        },
        "id": "S6rtn-nixuXo",
        "outputId": "95b19452-de57-44e5-d429-3fd86a1f85a9"
      },
      "execution_count": null,
      "outputs": [
        {
          "output_type": "stream",
          "name": "stdout",
          "text": [
            "Variance: 224.23809523809524\n"
          ]
        }
      ]
    },
    {
      "cell_type": "code",
      "source": [
        "std_deviation=statistics.stdev(data)\n",
        "print(\"Standard Deviation:\",std_deviation)"
      ],
      "metadata": {
        "colab": {
          "base_uri": "https://localhost:8080/"
        },
        "id": "qnmgRS4ox-b0",
        "outputId": "1d8f7485-f7cb-44ed-941e-555b62edd7bf"
      },
      "execution_count": null,
      "outputs": [
        {
          "output_type": "stream",
          "name": "stdout",
          "text": [
            "Standard Deviation: 14.974581638165898\n"
          ]
        }
      ]
    }
  ]
}